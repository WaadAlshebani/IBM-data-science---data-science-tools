{
 "cells": [
  {
   "cell_type": "markdown",
   "id": "a1b3b8d9-f0fb-4e3f-a14a-5aa2c0efefd3",
   "metadata": {},
   "source": [
    "# Data Science Tools and Ecosystem"
   ]
  },
  {
   "cell_type": "markdown",
   "id": "605580d2-3ce9-4bb5-adce-9082f55e2287",
   "metadata": {},
   "source": [
    "In this notebook, Data Science Tools and Ecosystem are summarized."
   ]
  },
  {
   "cell_type": "markdown",
   "id": "3c437bc7-8ac3-4dd9-884c-ec6f1359fb66",
   "metadata": {},
   "source": [
    "Some of the popular languages that Data Scientists use are:\n",
    "1. Python\n",
    "2. R\n",
    "3. SQL"
   ]
  },
  {
   "cell_type": "markdown",
   "id": "fd7a5fe3-58b6-438e-a271-e9f5cf64ffbc",
   "metadata": {},
   "source": [
    "ome of the commonly used libraries used by Data Scientists include:\n",
    "1. TensorFlow\n",
    "2. Keras\n",
    "3. Scikit-Learn"
   ]
  },
  {
   "cell_type": "markdown",
   "id": "869728e4-6993-4ac3-9f84-8d86d7059130",
   "metadata": {},
   "source": [
    "| Data Science Tools |\n",
    "---------------------\n",
    "|Jupyter Notebook |\n",
    "|RStudio |\n",
    "|VS Code | "
   ]
  },
  {
   "cell_type": "markdown",
   "id": "1d2e5d2e-47d8-4d4f-a07b-73e9cec02480",
   "metadata": {},
   "source": [
    "### Below are a few examples of evaluating arithmetic expressions in Python"
   ]
  },
  {
   "cell_type": "code",
   "execution_count": 4,
   "id": "ba151b14-3e9a-4097-a463-9f65ebab32e3",
   "metadata": {},
   "outputs": [
    {
     "data": {
      "text/plain": [
       "17"
      ]
     },
     "execution_count": 4,
     "metadata": {},
     "output_type": "execute_result"
    }
   ],
   "source": [
    "# This a simple arithmetic expression to mutiply then add integers\n",
    "(3*4)+5"
   ]
  },
  {
   "cell_type": "code",
   "execution_count": 5,
   "id": "d6f5352b-fe0c-4637-969f-10dd2ac27f62",
   "metadata": {},
   "outputs": [
    {
     "name": "stdout",
     "output_type": "stream",
     "text": [
      "3.3333333333333335\n"
     ]
    }
   ],
   "source": [
    "# This will convert 200 minutes to hours by diving by 60\n",
    "Mins = 200\n",
    "Hrs = 200/60\n",
    "print(Hrs)"
   ]
  },
  {
   "cell_type": "markdown",
   "id": "a96a0ac0-348b-44fd-b51d-12362a7c4e69",
   "metadata": {},
   "source": [
    "**Objectives:**\n",
    "\n",
    "- List popular languages for Data Science.\n",
    "- Explain key concepts in machine learning.\n",
    "- Demonstrate data visualization techniques.\n",
    "- Discuss best practices for data cleaning and preprocessing.\n"
   ]
  },
  {
   "cell_type": "markdown",
   "id": "75464fea-3657-4811-a0c7-81be8d228e99",
   "metadata": {},
   "source": [
    "## Author\n",
    "Waad Alshebani"
   ]
  }
 ],
 "metadata": {
  "kernelspec": {
   "display_name": "Python 3 (ipykernel)",
   "language": "python",
   "name": "python3"
  },
  "language_info": {
   "codemirror_mode": {
    "name": "ipython",
    "version": 3
   },
   "file_extension": ".py",
   "mimetype": "text/x-python",
   "name": "python",
   "nbconvert_exporter": "python",
   "pygments_lexer": "ipython3",
   "version": "3.9.12"
  }
 },
 "nbformat": 4,
 "nbformat_minor": 5
}
